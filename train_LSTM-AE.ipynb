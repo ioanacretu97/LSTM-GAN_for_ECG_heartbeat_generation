{
 "cells": [
  {
   "cell_type": "code",
   "execution_count": 1,
   "id": "35cabf63",
   "metadata": {},
   "outputs": [],
   "source": [
    "import pandas as pd\n",
    "import numpy as np\n",
    "import matplotlib.pyplot as plt\n",
    "import wfdb\n",
    "import glob\n",
    "import os\n",
    "\n",
    "%run ./utils.ipynb\n",
    "%run ./LSTM-AE.ipynb"
   ]
  },
  {
   "cell_type": "markdown",
   "id": "107c0ace",
   "metadata": {},
   "source": [
    "- Selection of lead MLII from the MIT-BIH arrythmia datbase\n",
    "- Segmentation of the signls into 360 datapoints (180 points each side of the R peak) centered around the R peak\n",
    "- normalisation of the heartbeats between -1 and 1\n",
    "- denoising of the signals\n",
    "- selection of labels and grouping them according to AAMI standars in 5 classes: Normal beat (N), Supraventricular ectopic beat (SVEB), Ventricular Ectopic Beat (VEB), Fusion beat (F), unnoun beat (Q)"
   ]
  },
  {
   "cell_type": "code",
   "execution_count": 2,
   "id": "3dad06cf",
   "metadata": {},
   "outputs": [],
   "source": [
    "'''Download the database from: https://physionet.org/content/mitdb/1.0.0/'''\n",
    "paths = glob.glob('C:/Users/1938759.IKB/OneDrive - Brunel University London/05 Datasets/mit-bih-arrhythmia-database-1.0.0/mit-bih-arrhythmia-database-1.0.0/*.atr')             \n",
    "paths.pop(1)\n",
    "\n",
    "[leadML2, _, labels] = segmentation(paths)\n",
    "\n",
    "# Normalise signals between [-1 and 1]\n",
    "leadML2 = normalise(leadML2, -1, 1)\n",
    "\n",
    "# Filter the signals\n",
    "leadML2 = Savitzky_Golay(leadML2, fs=360)\n",
    "\n",
    "# Exclude the signals that have the annotations in exclude_char \n",
    "[labels,Normal, AA, LBBB, RBBB] = exclude(labels,leadML2)"
   ]
  },
  {
   "cell_type": "code",
   "execution_count": 3,
   "id": "807793dd",
   "metadata": {},
   "outputs": [
    {
     "name": "stdout",
     "output_type": "stream",
     "text": [
      "63694 2493 8070 5724\n"
     ]
    }
   ],
   "source": [
    "print(len(Normal), len(AA), len(LBBB), len(RBBB))"
   ]
  },
  {
   "cell_type": "code",
   "execution_count": 26,
   "id": "f4821551",
   "metadata": {},
   "outputs": [
    {
     "data": {
      "text/plain": [
       "[<matplotlib.lines.Line2D at 0x192318d0108>]"
      ]
     },
     "execution_count": 26,
     "metadata": {},
     "output_type": "execute_result"
    },
    {
     "data": {
      "image/png": "[encoded data removed]",
      "text/plain": [
       "<Figure size 432x288 with 1 Axes>"
      ]
     },
     "metadata": {
      "needs_background": "light"
     },
     "output_type": "display_data"
    }
   ],
   "source": [
    "plt.plot(Normal[1000])"
   ]
  },
  {
   "cell_type": "markdown",
   "id": "104c06d5",
   "metadata": {},
   "source": [
    "- Split the dataset into training, validation and testing sets\n",
    "- transforme data into tensors\n",
    "- use dataloders to prep data for training "
   ]
  },
  {
   "cell_type": "code",
   "execution_count": 4,
   "id": "fb08e624",
   "metadata": {},
   "outputs": [],
   "source": [
    "from sklearn.model_selection import train_test_split\n",
    "# set aside 20% of train and test data for evaluation\n",
    "\n",
    "# In the line below: Data = pd.DataFrame(x) change the \"x\" with the name of the desired class for feature extraction \n",
    "Data = pd.DataFrame(AA)\n",
    "\n",
    "X_train, X_test = train_test_split(Data, test_size=0.2, shuffle = True, random_state = 8)\n",
    "X_test, X_val = train_test_split(X_test, test_size=0.5, shuffle = True, random_state= 8) \n",
    "\n",
    "from torch.utils.data import DataLoader\n",
    "batch_size = 1\n",
    "\n",
    "X_train = X_train.astype(np.float32).to_numpy().tolist()\n",
    "X_val = X_val.astype(np.float32).to_numpy().tolist()\n",
    "X_test = X_test.astype(np.float32).to_numpy().tolist()\n",
    "\n",
    "training_tensors =[torch.tensor(s).unsqueeze(1) for s in X_train]\n",
    "validation_tensors =[torch.tensor(s).unsqueeze(1) for s in X_val]\n",
    "test_tensors=[torch.tensor(s).unsqueeze(1) for s in X_test]\n",
    "\n",
    "n_seq, seq_len, n_features = torch.stack(training_tensors).shape\n",
    "\n",
    "trainloader = DataLoader(dataset=training_tensors,batch_size=batch_size,shuffle=True, drop_last=True)\n",
    "valloader = DataLoader(dataset=validation_tensors,batch_size=batch_size,shuffle=True, drop_last=True)\n",
    "testloader = DataLoader(dataset=test_tensors,batch_size=batch_size,shuffle=True, drop_last=True)"
   ]
  },
  {
   "cell_type": "code",
   "execution_count": null,
   "id": "07dd1ff0",
   "metadata": {},
   "outputs": [],
   "source": [
    "i = next(iter(testloader))\n",
    "print(i.shape)"
   ]
  },
  {
   "cell_type": "markdown",
   "id": "54a04e34",
   "metadata": {},
   "source": [
    "# Traing LSTM for FE for Normal class"
   ]
  },
  {
   "cell_type": "code",
   "execution_count": null,
   "id": "d6ab15e4",
   "metadata": {},
   "outputs": [],
   "source": [
    "%run ./LSTM-AE.ipynb\n",
    "import time"
   ]
  },
  {
   "cell_type": "code",
   "execution_count": null,
   "id": "b02811d0",
   "metadata": {},
   "outputs": [],
   "source": [
    "from sklearn.model_selection import train_test_split\n",
    "\n",
    "X_train, X_test, y_train, y_test = train_test_split(segmented_ecg, labels_enc, test_size=0.2, random_state=42)\n",
    "X_test, X_val, y_test, y_val = train_test_split(X_test, y_test, test_size=0.5, random_state=42) \n",
    "\n",
    "# training_dataset =[([X_train[i], y_train[i]]) for i in range(len(y_train))]\n",
    "# test_dataset =[([X_test[i], y_test[i]]) for i in range(len(y_test))]\n",
    "# validation_dataset =[([X_val[i], y_val[i]]) for i in range(len(y_val))]\n",
    "\n",
    "#####################\n",
    "X_train = np.array(X_train).astype(np.float32).tolist()\n",
    "X_val = np.array(X_val).astype(np.float32).tolist()\n",
    "X_test = np.array(X_test).astype(np.float32).tolist()\n",
    "\n",
    "training_tensors =[torch.tensor(s).unsqueeze(0) for s in X_train]\n",
    "validation_tensors =[torch.tensor(s).unsqueeze(0) for s in X_val]\n",
    "test_tensors=[torch.tensor(s).unsqueeze(0) for s in X_test]\n",
    "\n",
    "# training_labels = [torch.tensor(s).unsqueeze(0) for s in y_test]\n",
    "# validation_labels = [torch.tensor(s).unsqueeze(0) for s in y_val]\n",
    "# test_labels = [torch.tensor(s).unsqueeze(0) for s in y_test]\n",
    "\n",
    "training_dataset =[([training_tensors[i], training_labels[i]]) for i in range(len(training_labels))]\n",
    "validation_dataset =[([validation_tensors[i], validation_labels[i]]) for i in range(len(validation_tensors))]\n",
    "test_dataset=[([test_tensors[i], test_labels[i]]) for i in range(len(test_labels))]"
   ]
  },
  {
   "cell_type": "markdown",
   "id": "f900b01d",
   "metadata": {},
   "source": [
    "https://sgugger.github.io/how-do-you-find-a-good-learning-rate.html\n",
    "    \n",
    "net = SimpleNeuralNet(28*28,100,10)\n",
    "optimizer = optim.SGD(net.parameters(),lr=1e-1)\n",
    "criterion = F.nll_loss\n",
    "And after this we can call this function to find our learning rate and plot the results.\n",
    "\n",
    "logs,losses = find_lr()\n",
    "plt.plot(logs[10:-5],losses[10:-5])\n"
   ]
  },
  {
   "cell_type": "code",
   "execution_count": null,
   "id": "f47d1904",
   "metadata": {},
   "outputs": [],
   "source": [
    "# RAE it's a class that connects the Encoder and Decoder toghether, preparing it for the training\n",
    "device = torch.device(\"cuda:0\" if torch.cuda.is_available() else \"cpu\") \n",
    "\n",
    "embedding_dim = 64\n",
    "n_epochs = 150\n",
    "\n",
    "model = RAE(seq_len, n_features, embedding_dim, batch_size)\n",
    "model = model.to(device)\n",
    "\n",
    "optimizer = torch.optim.Adam(model.parameters(), lr = 0.0001)\n",
    "criterion = nn.MSELoss(reduction='mean').to(device)   # nn.L1Loss sum\n",
    "\n",
    "model, history = train_model(model,trainloader, valloader, n_epochs, optimizer, criterion)"
   ]
  },
  {
   "cell_type": "markdown",
   "id": "1bbfb9e8",
   "metadata": {},
   "source": [
    "**Visualise the results**"
   ]
  },
  {
   "cell_type": "code",
   "execution_count": 7,
   "id": "0cd525a1",
   "metadata": {},
   "outputs": [
    {
     "data": {
      "image/png": "[encoded data removed]",
      "text/plain": [
       "<Figure size 1080x720 with 1 Axes>"
      ]
     },
     "metadata": {
      "needs_background": "light"
     },
     "output_type": "display_data"
    }
   ],
   "source": [
    "import matplotlib.pyplot as plt\n",
    "\n",
    "ax = plt.figure(figsize=[15,10]).gca()\n",
    "ax.plot(history['train'])\n",
    "ax.plot(history['val'])\n",
    "plt.ylabel('Loss')\n",
    "plt.xlabel('Epoch')\n",
    "plt.legend(['train','validation'])\n",
    "plt.title('Loss over training epochs- SVEB')\n",
    "plt.show()"
   ]
  },
  {
   "cell_type": "markdown",
   "id": "3b90cf0d",
   "metadata": {},
   "source": [
    "# Save the LSTM autoencoder"
   ]
  },
  {
   "cell_type": "code",
   "execution_count": 8,
   "id": "a174d0e0",
   "metadata": {},
   "outputs": [],
   "source": [
    "import os \n",
    "PATH = 'Z:/1938759/EHRA- abstract/LSTM-AE feature extraction/models'\n",
    "torch.save(model.state_dict(), os.path.join(PATH,'LBBB_LSTMautoencoder.pth'))"
   ]
  },
  {
   "cell_type": "markdown",
   "id": "c08d36de",
   "metadata": {},
   "source": [
    "# Save the Encoder and Decoder separately "
   ]
  },
  {
   "cell_type": "code",
   "execution_count": 9,
   "id": "11a36fdb",
   "metadata": {},
   "outputs": [],
   "source": [
    "# 1) Save the parameters of the encoder \n",
    "PATH = 'Z:/1938759/EHRA- abstract/LSTM-AE feature extraction/models'\n",
    "torch.save(model.encoder.state_dict(), os.path.join(PATH,'LBBB_encoder.pth'))\n",
    "# 2) Save the parameters of the decoder \n",
    "torch.save(model.decoder.state_dict(), os.path.join(PATH,'LBBB_decoder.pth'))"
   ]
  },
  {
   "cell_type": "markdown",
   "id": "fbfe6929",
   "metadata": {},
   "source": [
    "# Test the model "
   ]
  },
  {
   "cell_type": "code",
   "execution_count": 10,
   "id": "1d5dd22d",
   "metadata": {},
   "outputs": [],
   "source": [
    "predictions, losses = [], []\n",
    "#criterion = nn.L1Loss(reduction='sum').to(device)\n",
    "model = model.eval()\n",
    "criterion = nn.MSELoss(reduction='mean').to(device)   # nn.L1Loss sum\n",
    "\n",
    "with torch.no_grad():\n",
    "    for batch_idx, (data) in enumerate (test_tensors):\n",
    "        data = data.to(device)\n",
    "        batch_size = data.shape[0]\n",
    "        data_pred = model(data)\n",
    "        loss = criterion(data_pred, data)     \n",
    "\n",
    "        predictions.append(data_pred.cpu().numpy())  #.flatten()\n",
    "        losses.append(loss.item())"
   ]
  },
  {
   "cell_type": "code",
   "execution_count": null,
   "id": "dd07256b",
   "metadata": {},
   "outputs": [],
   "source": [
    "predictions, pred_losses = predict(model, testloader)  #loaded_model"
   ]
  },
  {
   "cell_type": "code",
   "execution_count": null,
   "id": "deb89ef6",
   "metadata": {},
   "outputs": [],
   "source": [
    "plt.plot(predictions[0])"
   ]
  },
  {
   "cell_type": "code",
   "execution_count": 11,
   "id": "10333d84",
   "metadata": {},
   "outputs": [],
   "source": [
    "test =[]\n",
    "for data in test_tensors:\n",
    "    test.append(data.cpu().numpy())"
   ]
  },
  {
   "cell_type": "code",
   "execution_count": null,
   "id": "db2870fe",
   "metadata": {},
   "outputs": [],
   "source": [
    "plt.plot(predictions[4])"
   ]
  },
  {
   "cell_type": "code",
   "execution_count": 12,
   "id": "4b9531cb",
   "metadata": {},
   "outputs": [
    {
     "data": {
      "text/plain": [
       "<matplotlib.legend.Legend at 0x2586d75eb60>"
      ]
     },
     "execution_count": 12,
     "metadata": {},
     "output_type": "execute_result"
    },
    {
     "data": {
      "image/png": "[encoded data removed]",
      "text/plain": [
       "<Figure size 720x720 with 4 Axes>"
      ]
     },
     "metadata": {
      "needs_background": "light"
     },
     "output_type": "display_data"
    }
   ],
   "source": [
    "# adding first subplot\n",
    "#plt.figure(figsize=(20,10))\n",
    "plt.figure(figsize=[10,10])\n",
    "plt.subplot(321)\n",
    "plt.plot(test[9], label = 'true')\n",
    "plt.plot(predictions[9], label = 'predicted')\n",
    "plt.title(f' loss: {np.around(losses[4],4)}')\n",
    "plt.legend()\n",
    "plt.grid()\n",
    "\n",
    "# adding second subplot\n",
    "plt.subplot(322)\n",
    "plt.plot(test[25], label = 'true')\n",
    "plt.plot(predictions[25], label = 'predicted')\n",
    "plt.title(f'loss: {np.around(losses[25],4)}')\n",
    "plt.legend()\n",
    "plt.grid()\n",
    "#adding second subplot\n",
    "plt.subplot(323)\n",
    "plt.plot(test[14], label = 'true')\n",
    "plt.plot(predictions[14], label = 'predicted')\n",
    "plt.title(f' loss: {np.around(losses[14],4)}')\n",
    "plt.legend()\n",
    "plt.grid()\n",
    "\n",
    "# adding second subplot\n",
    "plt.subplot(324)\n",
    "plt.plot(test[35], label = 'true')\n",
    "plt.plot(predictions[35], label = 'predicted')\n",
    "plt.title(f'loss: {np.around(losses[20],4)}')\n",
    "plt.grid()\n",
    "plt.legend()"
   ]
  },
  {
   "cell_type": "markdown",
   "id": "826d3971",
   "metadata": {},
   "source": [
    "# Load model"
   ]
  },
  {
   "cell_type": "code",
   "execution_count": 5,
   "id": "5736fcc8",
   "metadata": {},
   "outputs": [
    {
     "ename": "FileNotFoundError",
     "evalue": "[Errno 2] No such file or directory: 'C:/Users/1938759.IKB/OneDrive - Brunel University London/Projects with Alex/EHRA- abstract/LSTM-AE feature extraction/models/encoder_Normal.pth'",
     "output_type": "error",
     "traceback": [
      "\u001b[1;31m---------------------------------------------------------------------------\u001b[0m",
      "\u001b[1;31mFileNotFoundError\u001b[0m                         Traceback (most recent call last)",
      "\u001b[1;32m~\\AppData\\Local\\Temp\\1\\ipykernel_16112\\466434871.py\u001b[0m in \u001b[0;36m<module>\u001b[1;34m\u001b[0m\n\u001b[0;32m      6\u001b[0m \u001b[0mencoder_PATH\u001b[0m \u001b[1;33m=\u001b[0m \u001b[1;34mr'C:/Users/1938759.IKB/OneDrive - Brunel University London/Projects with Alex/EHRA- abstract/LSTM-AE feature extraction/models/encoder_Normal.pth'\u001b[0m\u001b[1;33m\u001b[0m\u001b[1;33m\u001b[0m\u001b[0m\n\u001b[0;32m      7\u001b[0m \u001b[0mencoder_model\u001b[0m \u001b[1;33m=\u001b[0m \u001b[0mEncoder\u001b[0m\u001b[1;33m(\u001b[0m\u001b[0mseq_len\u001b[0m\u001b[1;33m,\u001b[0m \u001b[0mn_features\u001b[0m\u001b[1;33m,\u001b[0m \u001b[0mbatch_size\u001b[0m\u001b[1;33m,\u001b[0m \u001b[0membedding_dim\u001b[0m \u001b[1;33m=\u001b[0m \u001b[1;36m64\u001b[0m\u001b[1;33m)\u001b[0m\u001b[1;33m.\u001b[0m\u001b[0mto\u001b[0m\u001b[1;33m(\u001b[0m\u001b[0mdevice\u001b[0m\u001b[1;33m)\u001b[0m \u001b[1;31m# load the encoder to cuda\u001b[0m\u001b[1;33m\u001b[0m\u001b[1;33m\u001b[0m\u001b[0m\n\u001b[1;32m----> 8\u001b[1;33m \u001b[0mencoder_model\u001b[0m\u001b[1;33m.\u001b[0m\u001b[0mload_state_dict\u001b[0m\u001b[1;33m(\u001b[0m\u001b[0mtorch\u001b[0m\u001b[1;33m.\u001b[0m\u001b[0mload\u001b[0m\u001b[1;33m(\u001b[0m\u001b[0mencoder_PATH\u001b[0m\u001b[1;33m)\u001b[0m\u001b[1;33m)\u001b[0m\u001b[1;33m\u001b[0m\u001b[1;33m\u001b[0m\u001b[0m\n\u001b[0m\u001b[0;32m      9\u001b[0m \u001b[0mencoder_model\u001b[0m\u001b[1;33m.\u001b[0m\u001b[0meval\u001b[0m\u001b[1;33m(\u001b[0m\u001b[1;33m)\u001b[0m\u001b[1;33m\u001b[0m\u001b[1;33m\u001b[0m\u001b[0m\n\u001b[0;32m     10\u001b[0m \u001b[1;33m\u001b[0m\u001b[0m\n",
      "\u001b[1;32mC:\\envs\\ailab\\lib\\site-packages\\torch\\serialization.py\u001b[0m in \u001b[0;36mload\u001b[1;34m(f, map_location, pickle_module, **pickle_load_args)\u001b[0m\n\u001b[0;32m    697\u001b[0m         \u001b[0mpickle_load_args\u001b[0m\u001b[1;33m[\u001b[0m\u001b[1;34m'encoding'\u001b[0m\u001b[1;33m]\u001b[0m \u001b[1;33m=\u001b[0m \u001b[1;34m'utf-8'\u001b[0m\u001b[1;33m\u001b[0m\u001b[1;33m\u001b[0m\u001b[0m\n\u001b[0;32m    698\u001b[0m \u001b[1;33m\u001b[0m\u001b[0m\n\u001b[1;32m--> 699\u001b[1;33m     \u001b[1;32mwith\u001b[0m \u001b[0m_open_file_like\u001b[0m\u001b[1;33m(\u001b[0m\u001b[0mf\u001b[0m\u001b[1;33m,\u001b[0m \u001b[1;34m'rb'\u001b[0m\u001b[1;33m)\u001b[0m \u001b[1;32mas\u001b[0m \u001b[0mopened_file\u001b[0m\u001b[1;33m:\u001b[0m\u001b[1;33m\u001b[0m\u001b[1;33m\u001b[0m\u001b[0m\n\u001b[0m\u001b[0;32m    700\u001b[0m         \u001b[1;32mif\u001b[0m \u001b[0m_is_zipfile\u001b[0m\u001b[1;33m(\u001b[0m\u001b[0mopened_file\u001b[0m\u001b[1;33m)\u001b[0m\u001b[1;33m:\u001b[0m\u001b[1;33m\u001b[0m\u001b[1;33m\u001b[0m\u001b[0m\n\u001b[0;32m    701\u001b[0m             \u001b[1;31m# The zipfile reader is going to advance the current file position.\u001b[0m\u001b[1;33m\u001b[0m\u001b[1;33m\u001b[0m\u001b[1;33m\u001b[0m\u001b[0m\n",
      "\u001b[1;32mC:\\envs\\ailab\\lib\\site-packages\\torch\\serialization.py\u001b[0m in \u001b[0;36m_open_file_like\u001b[1;34m(name_or_buffer, mode)\u001b[0m\n\u001b[0;32m    229\u001b[0m \u001b[1;32mdef\u001b[0m \u001b[0m_open_file_like\u001b[0m\u001b[1;33m(\u001b[0m\u001b[0mname_or_buffer\u001b[0m\u001b[1;33m,\u001b[0m \u001b[0mmode\u001b[0m\u001b[1;33m)\u001b[0m\u001b[1;33m:\u001b[0m\u001b[1;33m\u001b[0m\u001b[1;33m\u001b[0m\u001b[0m\n\u001b[0;32m    230\u001b[0m     \u001b[1;32mif\u001b[0m \u001b[0m_is_path\u001b[0m\u001b[1;33m(\u001b[0m\u001b[0mname_or_buffer\u001b[0m\u001b[1;33m)\u001b[0m\u001b[1;33m:\u001b[0m\u001b[1;33m\u001b[0m\u001b[1;33m\u001b[0m\u001b[0m\n\u001b[1;32m--> 231\u001b[1;33m         \u001b[1;32mreturn\u001b[0m \u001b[0m_open_file\u001b[0m\u001b[1;33m(\u001b[0m\u001b[0mname_or_buffer\u001b[0m\u001b[1;33m,\u001b[0m \u001b[0mmode\u001b[0m\u001b[1;33m)\u001b[0m\u001b[1;33m\u001b[0m\u001b[1;33m\u001b[0m\u001b[0m\n\u001b[0m\u001b[0;32m    232\u001b[0m     \u001b[1;32melse\u001b[0m\u001b[1;33m:\u001b[0m\u001b[1;33m\u001b[0m\u001b[1;33m\u001b[0m\u001b[0m\n\u001b[0;32m    233\u001b[0m         \u001b[1;32mif\u001b[0m \u001b[1;34m'w'\u001b[0m \u001b[1;32min\u001b[0m \u001b[0mmode\u001b[0m\u001b[1;33m:\u001b[0m\u001b[1;33m\u001b[0m\u001b[1;33m\u001b[0m\u001b[0m\n",
      "\u001b[1;32mC:\\envs\\ailab\\lib\\site-packages\\torch\\serialization.py\u001b[0m in \u001b[0;36m__init__\u001b[1;34m(self, name, mode)\u001b[0m\n\u001b[0;32m    210\u001b[0m \u001b[1;32mclass\u001b[0m \u001b[0m_open_file\u001b[0m\u001b[1;33m(\u001b[0m\u001b[0m_opener\u001b[0m\u001b[1;33m)\u001b[0m\u001b[1;33m:\u001b[0m\u001b[1;33m\u001b[0m\u001b[1;33m\u001b[0m\u001b[0m\n\u001b[0;32m    211\u001b[0m     \u001b[1;32mdef\u001b[0m \u001b[0m__init__\u001b[0m\u001b[1;33m(\u001b[0m\u001b[0mself\u001b[0m\u001b[1;33m,\u001b[0m \u001b[0mname\u001b[0m\u001b[1;33m,\u001b[0m \u001b[0mmode\u001b[0m\u001b[1;33m)\u001b[0m\u001b[1;33m:\u001b[0m\u001b[1;33m\u001b[0m\u001b[1;33m\u001b[0m\u001b[0m\n\u001b[1;32m--> 212\u001b[1;33m         \u001b[0msuper\u001b[0m\u001b[1;33m(\u001b[0m\u001b[0m_open_file\u001b[0m\u001b[1;33m,\u001b[0m \u001b[0mself\u001b[0m\u001b[1;33m)\u001b[0m\u001b[1;33m.\u001b[0m\u001b[0m__init__\u001b[0m\u001b[1;33m(\u001b[0m\u001b[0mopen\u001b[0m\u001b[1;33m(\u001b[0m\u001b[0mname\u001b[0m\u001b[1;33m,\u001b[0m \u001b[0mmode\u001b[0m\u001b[1;33m)\u001b[0m\u001b[1;33m)\u001b[0m\u001b[1;33m\u001b[0m\u001b[1;33m\u001b[0m\u001b[0m\n\u001b[0m\u001b[0;32m    213\u001b[0m \u001b[1;33m\u001b[0m\u001b[0m\n\u001b[0;32m    214\u001b[0m     \u001b[1;32mdef\u001b[0m \u001b[0m__exit__\u001b[0m\u001b[1;33m(\u001b[0m\u001b[0mself\u001b[0m\u001b[1;33m,\u001b[0m \u001b[1;33m*\u001b[0m\u001b[0margs\u001b[0m\u001b[1;33m)\u001b[0m\u001b[1;33m:\u001b[0m\u001b[1;33m\u001b[0m\u001b[1;33m\u001b[0m\u001b[0m\n",
      "\u001b[1;31mFileNotFoundError\u001b[0m: [Errno 2] No such file or directory: 'C:/Users/1938759.IKB/OneDrive - Brunel University London/Projects with Alex/EHRA- abstract/LSTM-AE feature extraction/models/encoder_Normal.pth'"
     ]
    }
   ],
   "source": [
    "# Extract the hidden features/ encoded signals from the encoder\n",
    "\n",
    "# 1) Load the encoder\n",
    "embedding_dim = 64\n",
    "device = torch.device('cuda' if torch.cuda.is_available() else 'cpu') \n",
    "encoder_PATH = r'C:/Users/1938759.IKB/OneDrive - Brunel University London/Projects with Alex/EHRA- abstract/LSTM-AE feature extraction/models/encoder_Normal.pth'\n",
    "encoder_model = Encoder(seq_len, n_features, batch_size, embedding_dim = 64).to(device) # load the encoder to cuda\n",
    "encoder_model.load_state_dict(torch.load(encoder_PATH))\n",
    "encoder_model.eval()\n",
    "\n",
    "\n",
    "hidden_features, HF_list = [] , []\n",
    "criterion = nn.MSELoss(reduction='mean').to(device)   # nn.L1Loss sum\n",
    "with torch.no_grad():\n",
    "    for batch_idx, (data) in enumerate (testloader):\n",
    "        data = data.to(device)\n",
    "        data_pred = encoder_model(data.float())\n",
    "        \n",
    "        HF_list.append(data_pred.cpu().numpy())\n",
    "        hidden_features.append(data_pred)  #.flatten()"
   ]
  },
  {
   "cell_type": "code",
   "execution_count": null,
   "id": "5e6c06e7",
   "metadata": {},
   "outputs": [],
   "source": []
  },
  {
   "cell_type": "code",
   "execution_count": null,
   "id": "fafe1e98",
   "metadata": {},
   "outputs": [],
   "source": []
  },
  {
   "cell_type": "code",
   "execution_count": null,
   "id": "6420bdcb",
   "metadata": {},
   "outputs": [],
   "source": [
    "# 1) Load the decoder\n",
    "decoder_PATH = r'C:\\Users\\1938759.IKB\\OneDrive - Brunel University London\\Projects with Alex\\EHRA- abstract\\LSTM-AE feature extraction\\models\\decoder_Normal.pth'\n",
    "\n",
    "decoder_model = Decoder(seq_len, embedding_dim, batch_size, n_features).to(device)\n",
    "decoder_model.load_state_dict(torch.load(decoder_PATH))\n",
    "decoder_model.eval()\n",
    "\n",
    "\n",
    "decoded_features, decodedF_list = [], []\n",
    "with torch.no_grad():\n",
    "    for batch_idx, (data) in enumerate (hidden_features):\n",
    "        data = data.to(device)\n",
    "        batch_size = data.shape[0]\n",
    "        data_pred = decoder_model(data)\n",
    "        \n",
    "        decodedF_list.append(data_pred.cpu().numpy())  \n",
    "        decoded_features.append(data_pred)  \n"
   ]
  },
  {
   "cell_type": "code",
   "execution_count": null,
   "id": "830a46a2",
   "metadata": {},
   "outputs": [],
   "source": []
  },
  {
   "cell_type": "code",
   "execution_count": 5,
   "id": "98c9450e",
   "metadata": {},
   "outputs": [],
   "source": [
    "from sklearn.model_selection import train_test_split\n",
    "# set aside 20% of train and test data for evaluation\n",
    "\n",
    "# In the line below: Data = pd.DataFrame(x) change the \"x\" with the name of the desired class for feature extraction \n",
    "Data = pd.DataFrame(LBBB)\n",
    "\n",
    "X_train, X_test = train_test_split(Data, test_size=0.2, shuffle = True, random_state = 8)\n",
    "X_test, X_val = train_test_split(X_test, test_size=0.5, shuffle = True, random_state= 8) \n",
    "\n",
    "from torch.utils.data import DataLoader\n",
    "batch_size = 1\n",
    "\n",
    "X_train = X_train.astype(np.float32).to_numpy().tolist()\n",
    "X_val = X_val.astype(np.float32).to_numpy().tolist()\n",
    "X_test = X_test.astype(np.float32).to_numpy().tolist()\n",
    "\n",
    "training_tensors =[torch.tensor(s).unsqueeze(1) for s in X_train]\n",
    "validation_tensors =[torch.tensor(s).unsqueeze(1) for s in X_val]\n",
    "test_tensors=[torch.tensor(s).unsqueeze(1) for s in X_test]\n",
    "\n",
    "n_seq, seq_len, n_features = torch.stack(training_tensors).shape\n",
    "\n",
    "# trainloader = DataLoader(dataset=training_tensors,batch_size=batch_size,shuffle=True, drop_last=True)\n",
    "# valloader = DataLoader(dataset=validation_tensors,batch_size=batch_size,shuffle=True, drop_last=True)\n",
    "# testloader = DataLoader(dataset=test_tensors,batch_size=batch_size,shuffle=True, drop_last=True)"
   ]
  },
  {
   "cell_type": "code",
   "execution_count": null,
   "id": "ea2dde1d",
   "metadata": {},
   "outputs": [],
   "source": [
    "training_tensors[0].shape"
   ]
  },
  {
   "cell_type": "code",
   "execution_count": 6,
   "id": "3b5bb687",
   "metadata": {},
   "outputs": [
    {
     "name": "stdout",
     "output_type": "stream",
     "text": [
      "Epoch 1: train loss 0.12510518573081442 val loss 0.1098859811794876\n",
      "Epoch 2: train loss 0.1093524027352661 val loss 0.1164684277835684\n",
      "Epoch 3: train loss 0.10783904615635008 val loss 0.10542366731694935\n",
      "Epoch 4: train loss 0.10632937315382904 val loss 0.10476678853584488\n",
      "Epoch 5: train loss 0.10539427959813726 val loss 0.10639001109638474\n",
      "Epoch 6: train loss 0.10459279161018159 val loss 0.10467908517117099\n",
      "Epoch 7: train loss 0.10475688636166769 val loss 0.1033144385462726\n",
      "Epoch 8: train loss 0.10467275753363395 val loss 0.10704484557481356\n",
      "Epoch 9: train loss 0.1042329756453024 val loss 0.10267948661613494\n",
      "Epoch 10: train loss 0.09806906867684632 val loss 0.06504310980956203\n",
      "Epoch 11: train loss 0.05726567453661786 val loss 0.04963407576975067\n",
      "Epoch 12: train loss 0.04777332015090035 val loss 0.04311499108451902\n",
      "Epoch 13: train loss 0.04157422290986682 val loss 0.042339111574148804\n",
      "Epoch 14: train loss 0.039389414535531006 val loss 0.037472910526014695\n",
      "Epoch 15: train loss 0.03890392682644375 val loss 0.03665646119201914\n",
      "Epoch 16: train loss 0.03818572925001887 val loss 0.03983961846613091\n",
      "Epoch 17: train loss 0.037522479866798054 val loss 0.036180649007972944\n",
      "Epoch 18: train loss 0.0351598093932085 val loss 0.03350690426240021\n",
      "Epoch 19: train loss 0.033117944167658335 val loss 0.03061374604036683\n",
      "Epoch 20: train loss 0.016606813839789403 val loss 0.012366505453127634\n",
      "Epoch 21: train loss 0.01362865609093591 val loss 0.013221963996784889\n",
      "Epoch 22: train loss 0.013520963781818485 val loss 0.012729714447147728\n",
      "Epoch 23: train loss 0.010870497627073799 val loss 0.00993082271417132\n",
      "Epoch 24: train loss 0.009730627052481074 val loss 0.007760040519214922\n",
      "Epoch 25: train loss 0.009073129411267434 val loss 0.007737462068466491\n",
      "Epoch 26: train loss 0.00831240054933564 val loss 0.0066122316904371784\n",
      "Epoch 27: train loss 0.007936613460601998 val loss 0.0065930162527185285\n",
      "Epoch 28: train loss 0.007950858899882193 val loss 0.006988321022301349\n",
      "Epoch 29: train loss 0.007254352307641457 val loss 0.0052863733016088365\n",
      "Epoch 30: train loss 0.007188365007877996 val loss 0.005834678533858339\n",
      "Epoch 31: train loss 0.006666119844336465 val loss 0.0054372228347581535\n",
      "Epoch 32: train loss 0.006432640831191732 val loss 0.00504340940845214\n",
      "Epoch 33: train loss 0.006046749239353174 val loss 0.005402157917752045\n",
      "Epoch 34: train loss 0.006381150724301139 val loss 0.004910700975341983\n",
      "Epoch 35: train loss 0.012433627889130579 val loss 0.02056112354826136\n",
      "Epoch 36: train loss 0.00641610307541104 val loss 0.0071952416048854904\n",
      "Epoch 37: train loss 0.011528727959486725 val loss 0.021612659012976702\n",
      "Epoch 38: train loss 0.008133871688018305 val loss 0.0049780818233494395\n",
      "Epoch 39: train loss 0.005798339111254012 val loss 0.005643860620470739\n",
      "Epoch 40: train loss 0.005570945313228106 val loss 0.004833653420997527\n",
      "Epoch 41: train loss 0.0052020381209932085 val loss 0.00415308809080542\n",
      "Epoch 42: train loss 0.005036642389074858 val loss 0.005326908085520623\n",
      "Epoch 43: train loss 0.005361417028525984 val loss 0.005311547506370096\n",
      "Epoch 44: train loss 0.0047042310223833 val loss 0.003973286572846387\n",
      "Epoch 45: train loss 0.004646591958585344 val loss 0.003521548060360861\n",
      "Epoch 46: train loss 0.004769158778828767 val loss 0.003659825293078056\n",
      "Epoch 47: train loss 0.004941583029037327 val loss 0.003898311182847904\n",
      "Epoch 48: train loss 0.004525880087162156 val loss 0.003913212848832725\n",
      "Epoch 49: train loss 0.004798208315724633 val loss 0.0038369921846932685\n",
      "Epoch 50: train loss 0.004432064087161307 val loss 0.003335441348083488\n",
      "Epoch 51: train loss 0.004363897109724439 val loss 0.0037742926243778036\n",
      "Epoch 52: train loss 0.004343155065466811 val loss 0.003498052872420644\n",
      "Epoch 53: train loss 0.004563548667156035 val loss 0.003802976581049319\n",
      "Epoch 54: train loss 0.004271395256149903 val loss 0.004142540128560577\n",
      "Epoch 55: train loss 0.004587397923637666 val loss 0.004726776779813074\n",
      "Epoch 56: train loss 0.004114017239704163 val loss 0.004138581198878191\n",
      "Epoch 57: train loss 0.004241457099010939 val loss 0.004285598264276765\n",
      "Epoch 58: train loss 0.005796899258579087 val loss 0.004488126634930427\n",
      "Epoch 59: train loss 0.004229493114209275 val loss 0.003908856398513416\n",
      "Epoch 60: train loss 0.004259148644947771 val loss 0.00439052121209796\n",
      "Epoch 61: train loss 0.004164722279279343 val loss 0.004080791556065189\n",
      "Epoch 62: train loss 0.0040939409908378535 val loss 0.004179335272452757\n",
      "Epoch 63: train loss 0.004160825388671662 val loss 0.0044544920914171985\n",
      "Epoch 64: train loss 0.004394479721573508 val loss 0.004376370804929642\n",
      "Epoch 65: train loss 0.004168039185471837 val loss 0.004240346029107984\n",
      "Epoch 66: train loss 0.008175815466518186 val loss 0.00430740080169394\n",
      "Epoch 67: train loss 0.004016680555838047 val loss 0.004006209883586731\n",
      "Epoch 68: train loss 0.00401296381362333 val loss 0.005254115915306627\n",
      "Epoch 69: train loss 0.004092889953504256 val loss 0.005056180702159591\n",
      "Epoch 70: train loss 0.003889274640410779 val loss 0.0034614475538086867\n",
      "Epoch 71: train loss 0.0038441741469395184 val loss 0.0035782576859738247\n",
      "Epoch 72: train loss 0.003685257751110517 val loss 0.003761735582593517\n",
      "Epoch 73: train loss 0.0037302381665489737 val loss 0.004800798668206728\n",
      "Epoch 74: train loss 0.003860262292566185 val loss 0.004328122677695805\n",
      "Epoch 75: train loss 0.0036647719013256164 val loss 0.004484249034513779\n",
      "Epoch 76: train loss 0.0036041382315354477 val loss 0.004062856247534201\n",
      "Epoch 77: train loss 0.003578556864084668 val loss 0.003862991400749412\n",
      "Epoch 78: train loss 0.0035520593451859933 val loss 0.0033503655647493863\n",
      "Epoch 79: train loss 0.003356833681889122 val loss 0.003062707385515807\n",
      "Epoch 80: train loss 0.0034601962435779057 val loss 0.004367764174583763\n",
      "Epoch 81: train loss 0.0033995159281824676 val loss 0.0044204146164558\n",
      "Epoch 82: train loss 0.0033837678970738863 val loss 0.0044663710828345155\n",
      "Epoch 83: train loss 0.0033471780241591262 val loss 0.004488091872731088\n",
      "Epoch 84: train loss 0.0032736373492724307 val loss 0.0030844127031381023\n",
      "Epoch 85: train loss 0.003231233365973346 val loss 0.004557447397566857\n",
      "Epoch 86: train loss 0.003297148722242258 val loss 0.0032644219506427225\n",
      "Epoch 87: train loss 0.0032078151473458106 val loss 0.004568900179363587\n",
      "Epoch 88: train loss 0.00307723529347183 val loss 0.00442677291781746\n",
      "Epoch 89: train loss 0.0031414315208290926 val loss 0.0043967771483635724\n",
      "Epoch 90: train loss 0.003135128935148927 val loss 0.004098220198301834\n",
      "Epoch 91: train loss 0.0030112096872295926 val loss 0.004173138129711411\n",
      "Epoch 92: train loss 0.0030771068006216133 val loss 0.004421879685357071\n",
      "Epoch 93: train loss 0.00316037300911442 val loss 0.004408076879896005\n",
      "Epoch 94: train loss 0.0030969688599017725 val loss 0.004018938881422271\n",
      "Epoch 95: train loss 0.003018903317068026 val loss 0.0038131951664271795\n",
      "Epoch 96: train loss 0.0031017816865953145 val loss 0.004459009691593214\n",
      "Epoch 97: train loss 0.0028834966516253567 val loss 0.00412635193903852\n",
      "Epoch 98: train loss 0.0028744726633143855 val loss 0.003524679532872549\n",
      "Epoch 99: train loss 0.002778015175027163 val loss 0.0031731958439407174\n",
      "Epoch 100: train loss 0.002929524778669435 val loss 0.0036412105437418933\n",
      "Epoch 101: train loss 0.0027662858182605924 val loss 0.0037284579093838075\n",
      "Epoch 102: train loss 0.002759304583434603 val loss 0.003238075424152048\n",
      "Epoch 103: train loss 0.0027376684284259375 val loss 0.003153308777865934\n",
      "Epoch 104: train loss 0.0028136219495154295 val loss 0.0027356283107039356\n",
      "Epoch 105: train loss 0.002874062763719763 val loss 0.002705119757813804\n",
      "Epoch 106: train loss 0.0027521023373952075 val loss 0.0030233569769715298\n",
      "Epoch 107: train loss 0.0026774705095522675 val loss 0.0028403266466841856\n",
      "Epoch 108: train loss 0.0028275675734603352 val loss 0.002728332199210092\n",
      "Epoch 109: train loss 0.002836874133873701 val loss 0.003042950727754703\n",
      "Epoch 110: train loss 0.002588554385952875 val loss 0.0028264188115217272\n",
      "Epoch 111: train loss 0.0026672035486178004 val loss 0.0029518348905254997\n",
      "Epoch 112: train loss 0.0024977919169575464 val loss 0.0022878807200610238\n",
      "Epoch 113: train loss 0.002588614099779841 val loss 0.0027949249127478992\n",
      "Epoch 114: train loss 0.0025821312392768055 val loss 0.0029698001961437283\n"
     ]
    },
    {
     "name": "stdout",
     "output_type": "stream",
     "text": [
      "Epoch 115: train loss 0.002561160702317007 val loss 0.0025824623828434442\n",
      "Epoch 116: train loss 0.0025049197066654557 val loss 0.002624764966632325\n",
      "Epoch 117: train loss 0.0025759905364519803 val loss 0.0027228296093928053\n",
      "Epoch 118: train loss 0.002523870729049628 val loss 0.0025967667076026656\n",
      "Epoch 119: train loss 0.0024717157124374903 val loss 0.002444999363882002\n",
      "Epoch 120: train loss 0.0023768660973970753 val loss 0.002530323886004556\n",
      "Epoch 121: train loss 0.0024784314452890757 val loss 0.002920670171058823\n",
      "Epoch 122: train loss 0.002346578794810391 val loss 0.0025116465405050793\n",
      "Epoch 123: train loss 0.0023467643352266553 val loss 0.0022836790238964385\n",
      "Epoch 124: train loss 0.002339915316237579 val loss 0.0026162164868576893\n",
      "Epoch 125: train loss 0.0022592426333006084 val loss 0.002839808284653128\n",
      "Epoch 126: train loss 0.002250455838416263 val loss 0.0025414106435767236\n",
      "Epoch 127: train loss 0.002271214660554297 val loss 0.002448737881799278\n",
      "Epoch 128: train loss 0.0023506015303291243 val loss 0.0022113674475699335\n",
      "Epoch 129: train loss 0.002122979287989095 val loss 0.002431306338393997\n",
      "Epoch 130: train loss 0.002284907856429992 val loss 0.0023961917149486387\n",
      "Epoch 131: train loss 0.002214519863204329 val loss 0.002355383564437488\n",
      "Epoch 132: train loss 0.00229766249987819 val loss 0.002346463589702561\n",
      "Epoch 133: train loss 0.002178465371843746 val loss 0.002395322061605582\n",
      "Epoch 134: train loss 0.0022216058735194896 val loss 0.0023918890080259205\n",
      "Epoch 135: train loss 0.002365931993530356 val loss 0.0024640051921531836\n",
      "Epoch 136: train loss 0.0021939355213011933 val loss 0.002331191737816728\n",
      "Epoch 137: train loss 0.0021644261887175786 val loss 0.002404889850135745\n",
      "Epoch 138: train loss 0.002144286443340043 val loss 0.0023004654088613543\n",
      "Epoch 139: train loss 0.002070067842301715 val loss 0.0023737120241178614\n",
      "Epoch 140: train loss 0.0020626916747096178 val loss 0.0023289098462375237\n",
      "Epoch 141: train loss 0.0022159791422859967 val loss 0.002547612995173421\n",
      "Epoch 142: train loss 0.0023308543371789903 val loss 0.0025106063161032762\n",
      "Epoch 143: train loss 0.002078134718774839 val loss 0.0023377194592112947\n",
      "Epoch 144: train loss 0.0020482546619504925 val loss 0.002376056533958734\n",
      "Epoch 145: train loss 0.002030121782592761 val loss 0.0022815076446465344\n",
      "Epoch 146: train loss 0.002047542327388453 val loss 0.002213612967105859\n",
      "Epoch 147: train loss 0.0020344558212743616 val loss 0.002174124625122551\n",
      "Epoch 148: train loss 0.001956037141106821 val loss 0.002080373314653305\n",
      "Epoch 149: train loss 0.0019578753850271187 val loss 0.002496078257135068\n",
      "Epoch 150: train loss 0.0019316649187928103 val loss 0.002124361349553934\n"
     ]
    }
   ],
   "source": [
    "device = torch.device('cuda' if torch.cuda.is_available() else 'cpu')\n",
    "model = RAE(seq_len,n_features,embedding_dim = 32)\n",
    "model = model.to(device)\n",
    "\n",
    "model, history = train_model(model,training_tensors, validation_tensors, n_epochs = 150)"
   ]
  },
  {
   "cell_type": "code",
   "execution_count": null,
   "id": "7df93d49",
   "metadata": {},
   "outputs": [],
   "source": []
  }
 ],
 "metadata": {
  "kernelspec": {
   "display_name": "Python 3 (ipykernel)",
   "language": "python",
   "name": "python3"
  },
  "language_info": {
   "codemirror_mode": {
    "name": "ipython",
    "version": 3
   },
   "file_extension": ".py",
   "mimetype": "text/x-python",
   "name": "python",
   "nbconvert_exporter": "python",
   "pygments_lexer": "ipython3",
   "version": "3.7.13"
  }
 },
 "nbformat": 4,
 "nbformat_minor": 5
}
