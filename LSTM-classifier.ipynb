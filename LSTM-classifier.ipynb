{
 "cells": [
  {
   "cell_type": "code",
   "execution_count": null,
   "id": "66aefbb4",
   "metadata": {},
   "outputs": [],
   "source": [
    "import pandas as pd\n",
    "import numpy as np\n",
    "import matplotlib.pyplot as plt\n",
    "import wfdb\n",
    "import glob\n",
    "import os\n",
    "\n",
    "%run ./utils.ipynb"
   ]
  },
  {
   "cell_type": "markdown",
   "id": "653eeaf5",
   "metadata": {},
   "source": [
    "https://www.kaggle.com/code/l33tc0d3r/ecg-heartbeat-categorization-using-cnn"
   ]
  },
  {
   "cell_type": "code",
   "execution_count": null,
   "id": "769a8273",
   "metadata": {},
   "outputs": [],
   "source": [
    "\n",
    "'''We exclude specific annotations/beats; for more details about annotations go to: \n",
    "https://archive.physionet.org/physiobank/annotations.shtml#aux''' \n",
    "def exclude(labels,leadML2):\n",
    "    exclude_char = ['~','|','!','[',']','\"','no','+','x']\n",
    "    zero_list=[]\n",
    "    for i in exclude_char:\n",
    "        for j in range(len(labels)):\n",
    "            if labels[j]==i:\n",
    "                labels[j] = 0  # Finds char from 'exclude_char' and replaces them with zero\n",
    "                zero_list.append(j)  #find the indexes where labels=0 \n",
    "    leadML2 = [leadML2[i] for i in range(0, len(labels)) if i not in zero_list] \n",
    "    labels = [labels[i] for i in range(0, len(labels)) if i not in zero_list] \n",
    "    \n",
    "    \n",
    "    new_labels = []; signals=[]\n",
    "    for j in range(len(labels)):\n",
    "        if labels[j]=='N':\n",
    "            label = 0\n",
    "            new_labels.append(label)  # N\n",
    "            signals.append(leadML2[j])\n",
    "        elif labels[j]=='A':\n",
    "            label = 1\n",
    "            new_labels.append(label)  #'SVEB'\n",
    "            signals.append(leadML2[j])\n",
    "        elif labels[j]=='L':\n",
    "            label = 2\n",
    "            new_labels.append(label) # 'VEB'\n",
    "            signals.append(leadML2[j])\n",
    "\n",
    "        elif labels[j]=='R':\n",
    "            label = 3\n",
    "            new_labels.append(label) #'F'\n",
    "            signals.append(leadML2[j])\n",
    "    return new_labels,signals"
   ]
  },
  {
   "cell_type": "code",
   "execution_count": null,
   "id": "1cddcd2b",
   "metadata": {},
   "outputs": [],
   "source": [
    "'''Download the database from: https://physionet.org/content/mitdb/1.0.0/'''\n",
    "paths = glob.glob(r'C:\\Users\\1938759.IKB\\OneDrive - Brunel University London\\05 Datasets\\mit-bih-arrhythmia-database-1.0.0\\mit-bih-arrhythmia-database-1.0.0\\*.atr')             \n",
    "paths.pop(1)\n",
    "\n",
    "[leadML2, _, labels] = segmentation(paths)\n",
    "\n",
    "# Normalise signals between [-1 and 1]\n",
    "leadML2 = normalise(leadML2, -1, 1)\n",
    "\n",
    "# Filter the signals\n",
    "leadML2 = Savitzky_Golay(leadML2, fs=360)\n",
    "\n",
    "# Exclude the signals that have the annotations in exclude_char \n",
    "[labels,signals] = exclude(labels,leadML2)"
   ]
  },
  {
   "cell_type": "code",
   "execution_count": null,
   "id": "9dbe2e78",
   "metadata": {},
   "outputs": [],
   "source": [
    "from sklearn.model_selection import train_test_split\n",
    "\n",
    "X_train, X_test, y_train, y_test = train_test_split(np.array(signals), np.array(labels), test_size = 0.3, shuffle=True)\n",
    "print(f'The shape of the training is: {np.shape(np.array(X_train))}')\n",
    "print(f'The shape of the test is: {np.shape(np.array(X_test))}')"
   ]
  },
  {
   "cell_type": "code",
   "execution_count": null,
   "id": "41010f30",
   "metadata": {},
   "outputs": [],
   "source": [
    "X_train = np.array(X_train).reshape(X_train.shape[0], X_train.shape[1], 1)\n",
    "X_test = np.array(X_test).reshape(X_test.shape[0], X_test.shape[1], 1)\n",
    "\n",
    "print(f'The shape of the training is: {np.shape(np.array(X_train))}')\n",
    "print(f'The shape of the test is: {np.shape(np.array(X_test))}')"
   ]
  },
  {
   "cell_type": "code",
   "execution_count": null,
   "id": "0965f4a9",
   "metadata": {},
   "outputs": [],
   "source": [
    "y_train"
   ]
  },
  {
   "cell_type": "code",
   "execution_count": null,
   "id": "d376419a",
   "metadata": {},
   "outputs": [],
   "source": [
    "np.shape(X_train)"
   ]
  },
  {
   "cell_type": "code",
   "execution_count": null,
   "id": "4d0506a9",
   "metadata": {},
   "outputs": [],
   "source": [
    "input_shape = (X_train.shape[2],1)\n",
    "input_shape"
   ]
  },
  {
   "cell_type": "code",
   "execution_count": null,
   "id": "a456e116",
   "metadata": {},
   "outputs": [],
   "source": [
    "unique, counts = np.unique(y_train, return_counts=True)\n",
    "fig =plt.figure(figsize=[3,2])\n",
    "plt.bar(unique,counts)\n",
    "plt.title(\"Class distribution- training set\")\n",
    "plt.xlabel('Class')\n",
    "plt.ylabel('Distribution')"
   ]
  },
  {
   "cell_type": "code",
   "execution_count": null,
   "id": "bd8b3a60",
   "metadata": {},
   "outputs": [],
   "source": [
    "from tensorflow.keras import Sequential,utils\n",
    "from tensorflow.keras.layers import Flatten, Dense, Conv1D, MaxPool1D, Dropout\n",
    "\n",
    "model = Sequential()\n",
    "\n",
    "model.add(Conv1D(filters=64, kernel_size=(3,), padding='same', activation='relu', input_shape = (X_train.shape[1],1)))\n",
    "#model.add(Conv1D(filters=32, kernel_size=(3,), padding='same', activation='relu')) \n",
    "#clf.add(Conv1D(filters=128, kernel_size=(5,), padding='same', activation='relu'))    \n",
    "\n",
    "#model.add(MaxPool1D(pool_size=(3,), strides=2, padding='same'))\n",
    "#model.add(Dropout(0.5))\n",
    "model.add(Flatten())\n",
    "\n",
    "model.add(Dense(units = 50, activation='relu'))\n",
    "#clf.add(Dense(units = 1024, activation='relu'))\n",
    "\n",
    "model.add(Dense(units = 4, activation='softmax'))"
   ]
  },
  {
   "cell_type": "code",
   "execution_count": null,
   "id": "67aff7c6",
   "metadata": {},
   "outputs": [],
   "source": [
    "from tensorflow.keras import Sequential,utils\n",
    "from tensorflow.keras.layers import Flatten, Dense, Conv1D, MaxPool1D, Dropout, LSTM\n",
    "model = Sequential()\n",
    "\n",
    "model.add(LSTM(256,input_shape = (X_train.shape[1],1), return_sequences=True))\n",
    "model.add(LSTM(128, return_sequences=True))\n",
    "model.add(LSTM(64, return_sequences=False))\n",
    "\n",
    "model.add(Dense(units = 4, activation='softmax'))"
   ]
  },
  {
   "cell_type": "code",
   "execution_count": null,
   "id": "b2855216",
   "metadata": {},
   "outputs": [],
   "source": [
    "model.compile(optimizer='adam', loss = 'sparse_categorical_crossentropy', metrics=['accuracy'])"
   ]
  },
  {
   "cell_type": "code",
   "execution_count": null,
   "id": "faad9045",
   "metadata": {},
   "outputs": [],
   "source": [
    "history = model.fit(X_train, y_train, epochs = 10)"
   ]
  },
  {
   "cell_type": "code",
   "execution_count": null,
   "id": "0b2b5171",
   "metadata": {},
   "outputs": [],
   "source": [
    "# Prediction\n",
    "y_pred = model.predict(X_test)"
   ]
  },
  {
   "cell_type": "code",
   "execution_count": null,
   "id": "8522f598",
   "metadata": {},
   "outputs": [],
   "source": [
    "acc = history.history['accuracy']\n",
    "epochs = range(1, len(acc) + 1)\n",
    "plt.plot(epochs, acc, color='red', label='Training acc')\n",
    "plt.title('Training Accuracy')\n",
    "plt.xlabel('Epochs')\n",
    "plt.ylabel('Loss')\n",
    "plt.show()"
   ]
  },
  {
   "cell_type": "code",
   "execution_count": null,
   "id": "761fe1ed",
   "metadata": {},
   "outputs": [],
   "source": [
    "from sklearn.metrics import confusion_matrix\n",
    "import seaborn as sns\n",
    "y_lbl = [np.where(i == np.max(i))[0][0] for i in y_pred]\n",
    "CM = confusion_matrix(y_test, y_lbl)"
   ]
  },
  {
   "cell_type": "code",
   "execution_count": null,
   "id": "7fd7edd4",
   "metadata": {},
   "outputs": [],
   "source": [
    "ar_unique, i = np.unique(y_test, return_counts=True)\n",
    "fig =plt.figure(figsize=[3,2])\n",
    "plt.bar(unique,counts)\n",
    "plt.title(\"Class distribution- training set\")\n",
    "plt.xlabel('Class')\n",
    "plt.ylabel('Distribution')"
   ]
  },
  {
   "cell_type": "code",
   "execution_count": null,
   "id": "98ee2cd1",
   "metadata": {},
   "outputs": [],
   "source": [
    "from sklearn.metrics import confusion_matrix,precision_score,recall_score,classification_report\n",
    "print('classification_report :\\n',classification_report(y_test,y_lbl))\n"
   ]
  },
  {
   "cell_type": "code",
   "execution_count": null,
   "id": "0cc347ca",
   "metadata": {},
   "outputs": [],
   "source": [
    "Precision_N = CM[0,0]/(CM[0,0]+(CM[0,1]+CM[0,2]+CM[0,3]))\n",
    "Recall_N = CM[0,0]/(CM[0,0]+(CM[1,0]+CM[2,0]+CM[3,0]))\n",
    "print(f'Precision and Recall for SR class {Precision_N}, {Recall_N}')\n",
    "\n",
    "Precision_A = CM[1,1]/(CM[1,1]+(CM[1,2]+CM[1,3]+CM[1,0]))\n",
    "Recall_A = CM[1,1]/(CM[1,1]+(CM[2,1]+CM[3,1]+CM[0,1]))\n",
    "print(f'Precision and Recall for A class {Precision_A}, {Recall_A}')\n",
    "\n",
    "Precision_L = CM[2,2]/(CM[2,2]+(CM[2,0]+CM[2,1]+CM[2,3]))\n",
    "Recall_L = CM[2,2]/(CM[2,2]+(CM[0,2]+CM[1,2]+CM[3,2]))\n",
    "print(f'Precision and Recall for LBBB class {Precision_L}, {Recall_L}')\n",
    "\n",
    "Precision_R = CM[3,3]/(CM[3,3]+(CM[3,1]+CM[3,2]+CM[3,0]))\n",
    "Recall_R = CM[3,3]/(CM[3,3]+(CM[1,3]+CM[2,3]+CM[0,3]))\n",
    "print(f'Precision and Recall for RBBB class {Precision_R}, {Recall_R}')"
   ]
  },
  {
   "cell_type": "code",
   "execution_count": null,
   "id": "d6d5eafd",
   "metadata": {},
   "outputs": [],
   "source": [
    "from sklearn.metrics import confusion_matrix\n",
    "import seaborn as sns\n",
    "y_lbl = [np.where(i == np.max(i))[0][0] for i in y_pred]\n",
    "mat = confusion_matrix(y_test, y_lbl)\n",
    "fig, ax = plt.subplots(figsize=(7,7))\n",
    "sns.heatmap(mat, annot = True)"
   ]
  },
  {
   "cell_type": "code",
   "execution_count": null,
   "id": "ee1e4577",
   "metadata": {
    "scrolled": true
   },
   "outputs": [],
   "source": [
    "# Measure the Accuracy Score\n",
    "\n",
    "from sklearn import metrics\n",
    "\n",
    "print(\"Accuracy score of the predictions: {0}\".format(metrics.accuracy_score(y_lbl, y_test)))"
   ]
  }
 ],
 "metadata": {
  "kernelspec": {
   "display_name": "Python 3 (ipykernel)",
   "language": "python",
   "name": "python3"
  },
  "language_info": {
   "codemirror_mode": {
    "name": "ipython",
    "version": 3
   },
   "file_extension": ".py",
   "mimetype": "text/x-python",
   "name": "python",
   "nbconvert_exporter": "python",
   "pygments_lexer": "ipython3",
   "version": "3.7.13"
  }
 },
 "nbformat": 4,
 "nbformat_minor": 5
}
